{
  "nbformat": 4,
  "nbformat_minor": 0,
  "metadata": {
    "colab": {
      "provenance": [],
      "authorship_tag": "ABX9TyMkCBZf1pGKovEshM4DncGx",
      "include_colab_link": true
    },
    "kernelspec": {
      "name": "python3",
      "display_name": "Python 3"
    },
    "language_info": {
      "name": "python"
    }
  },
  "cells": [
    {
      "cell_type": "markdown",
      "metadata": {
        "id": "view-in-github",
        "colab_type": "text"
      },
      "source": [
        "<a href=\"https://colab.research.google.com/github/nisha1365/Udemy_Course_7_NLP/blob/main/Stop_Words.ipynb\" target=\"_parent\"><img src=\"https://colab.research.google.com/assets/colab-badge.svg\" alt=\"Open In Colab\"/></a>"
      ]
    },
    {
      "cell_type": "code",
      "execution_count": 1,
      "metadata": {
        "id": "W6xlyc9r9Hhm"
      },
      "outputs": [],
      "source": [
        "import spacy\n",
        "nlp = spacy.load('en_core_web_sm')"
      ]
    },
    {
      "cell_type": "code",
      "source": [
        "print(nlp.Defaults.stop_words)"
      ],
      "metadata": {
        "colab": {
          "base_uri": "https://localhost:8080/"
        },
        "id": "3whKWShv9QtU",
        "outputId": "710a0576-f84a-4253-e7e7-671cb1f48a0a"
      },
      "execution_count": 2,
      "outputs": [
        {
          "output_type": "stream",
          "name": "stdout",
          "text": [
            "{'some', 'nothing', 'beside', 'together', 'whatever', 'besides', 'make', 'name', 'up', \"'s\", 'own', 'as', 'using', 'become', 'this', 'three', 'that', 'alone', 'ten', 'either', 'be', 'has', 'thereby', 'mine', 'does', 'to', 'ourselves', 'becomes', 'whoever', 'ca', 'sixty', '‘s', 'upon', 'anyway', 'myself', 'very', 'namely', 'amount', 'a', 'hence', 'noone', 'other', 'against', 'various', 'around', 'below', 'for', 'few', 'these', 'once', 'could', 'via', 'fifty', 'last', 'meanwhile', 'on', 'me', 'so', 'anywhere', 'fifteen', 'your', 'of', 'why', 'been', 'each', 'twelve', 'cannot', 'latterly', 'might', 'if', 'onto', 'would', 'while', 'where', 'it', 'thereupon', 'almost', 'throughout', 'top', 'back', 'often', 'and', 'how', 'same', 'put', '‘ve', 'many', 'say', 'whose', 'himself', 'please', 'moreover', 'though', 'do', 'my', 'twenty', 'but', 'well', 'did', 'along', 'used', 'nobody', 'too', 'someone', 'herein', 'whereas', 'since', 'behind', 'show', \"'m\", 'yourselves', 'next', 'both', 'whither', 'latter', 'with', 'further', '’m', 'another', 'whether', 'the', 'otherwise', 'nowhere', 'ours', 'therefore', '‘ll', 'have', 'thus', 'should', 'being', 'thru', 'is', 'sometime', 'she', 'toward', 'everyone', 'there', 'herself', 'was', 'anything', '’d', 'none', 'beyond', 'now', 'over', 'amongst', 'hereby', 'per', 'mostly', 'without', 'move', 'not', 'neither', '’s', 'him', 'are', 'off', 'about', 'such', 'whereafter', 'regarding', 'less', 'yours', 'therein', 'above', 'their', 'in', 'whenever', 'elsewhere', 'because', 'under', 'one', 'after', 'always', 'down', 'part', 'them', 'seemed', 'thereafter', 'n‘t', 'enough', 'see', 'during', 'towards', 'anyone', 'empty', 'were', 'others', 'am', 'than', 'will', 'formerly', 'wherein', 'ever', 'several', 'bottom', 'however', 'quite', 'least', 'give', 'doing', 'go', 'i', 'nor', 'he', 'an', 'everything', 'hereafter', '‘m', 'again', 'former', 'except', \"'ve\", 'into', 'anyhow', 'itself', 'its', 'even', 'through', 'any', 'among', 'you', 'what', '‘re', 'something', 'first', 'eleven', 'they', 'unless', 'whereupon', 'side', 'never', 'every', '’ve', 'seeming', 'done', 'whole', 'n’t', 'six', 'really', 'five', 'perhaps', 'whence', 'yet', 'two', 'four', 'can', 'seems', 'hereupon', 'rather', 'all', \"'d\", 'beforehand', 'hundred', 'indeed', 'before', 'who', 'here', 'serious', 'nine', 'by', 'third', 'her', 'us', 'between', '’re', \"n't\", 'just', 'due', 'also', 'forty', 'had', 'somewhere', 'whereby', 'much', 'may', 'hers', 'front', 'then', 'until', 'only', 'or', 'became', 'seem', 'no', 'eight', 'within', 'full', 'we', 'must', 'take', 'although', 'becoming', 'sometimes', 'his', 'else', 'across', 're', 'which', \"'ll\", 'call', 'nevertheless', 'somehow', 'yourself', \"'re\", 'from', 'those', 'keep', 'themselves', '’ll', 'afterwards', 'out', 'more', 'wherever', 'get', 'most', 'still', '‘d', 'our', 'made', 'thence', 'when', 'at', 'everywhere', 'already', 'whom'}\n"
          ]
        }
      ]
    },
    {
      "cell_type": "code",
      "source": [
        "len(nlp.Defaults.stop_words)"
      ],
      "metadata": {
        "colab": {
          "base_uri": "https://localhost:8080/"
        },
        "id": "BZ8FhUcF9bg3",
        "outputId": "4cd92f6c-1f1e-42ef-eabe-5080c7d10924"
      },
      "execution_count": 3,
      "outputs": [
        {
          "output_type": "execute_result",
          "data": {
            "text/plain": [
              "326"
            ]
          },
          "metadata": {},
          "execution_count": 3
        }
      ]
    },
    {
      "cell_type": "code",
      "source": [
        "nlp.vocab['always'].is_stop"
      ],
      "metadata": {
        "colab": {
          "base_uri": "https://localhost:8080/"
        },
        "id": "mFpOJEfC9lMP",
        "outputId": "5d922316-4c36-46ef-883c-25add459fd43"
      },
      "execution_count": 4,
      "outputs": [
        {
          "output_type": "execute_result",
          "data": {
            "text/plain": [
              "True"
            ]
          },
          "metadata": {},
          "execution_count": 4
        }
      ]
    },
    {
      "cell_type": "code",
      "source": [
        "nlp.vocab['finance'].is_stop"
      ],
      "metadata": {
        "colab": {
          "base_uri": "https://localhost:8080/"
        },
        "id": "44h9ze-v9shU",
        "outputId": "90b5c4e7-ea0a-48b3-f1e5-8ca8b4c08e05"
      },
      "execution_count": 5,
      "outputs": [
        {
          "output_type": "execute_result",
          "data": {
            "text/plain": [
              "False"
            ]
          },
          "metadata": {},
          "execution_count": 5
        }
      ]
    },
    {
      "cell_type": "code",
      "source": [
        "nlp.vocab['asdrfhf'].is_stop"
      ],
      "metadata": {
        "colab": {
          "base_uri": "https://localhost:8080/"
        },
        "id": "UGNmciO49wui",
        "outputId": "c8cd2a09-1b9f-41e7-e703-20e15e2c7cce"
      },
      "execution_count": 6,
      "outputs": [
        {
          "output_type": "execute_result",
          "data": {
            "text/plain": [
              "False"
            ]
          },
          "metadata": {},
          "execution_count": 6
        }
      ]
    },
    {
      "cell_type": "code",
      "source": [
        "nlp.Defaults.stop_words.add('asdrfhf')"
      ],
      "metadata": {
        "id": "-zHdTKri94DU"
      },
      "execution_count": 9,
      "outputs": []
    },
    {
      "cell_type": "code",
      "source": [
        "nlp.vocab['asdrfhf'].is_stop = True"
      ],
      "metadata": {
        "id": "9P3T6QTE9-Xu"
      },
      "execution_count": 10,
      "outputs": []
    },
    {
      "cell_type": "code",
      "source": [
        "nlp.vocab['asdrfhf'].is_stop"
      ],
      "metadata": {
        "colab": {
          "base_uri": "https://localhost:8080/"
        },
        "id": "Ar4I1glX-MJA",
        "outputId": "b7acc21e-6c6e-4a18-ac23-7b7dd478ca12"
      },
      "execution_count": 11,
      "outputs": [
        {
          "output_type": "execute_result",
          "data": {
            "text/plain": [
              "True"
            ]
          },
          "metadata": {},
          "execution_count": 11
        }
      ]
    },
    {
      "cell_type": "code",
      "source": [
        "len(nlp.Defaults.stop_words)"
      ],
      "metadata": {
        "colab": {
          "base_uri": "https://localhost:8080/"
        },
        "id": "klP9hzys-8Tc",
        "outputId": "f5eb33fb-a492-4dd0-fdc3-16b71cecbcda"
      },
      "execution_count": 12,
      "outputs": [
        {
          "output_type": "execute_result",
          "data": {
            "text/plain": [
              "327"
            ]
          },
          "metadata": {},
          "execution_count": 12
        }
      ]
    },
    {
      "cell_type": "code",
      "source": [
        "nlp.vocab['no'].is_stop"
      ],
      "metadata": {
        "colab": {
          "base_uri": "https://localhost:8080/"
        },
        "id": "SE7oTibd_C3M",
        "outputId": "c419c388-61fa-4a48-de49-a433755dba87"
      },
      "execution_count": 13,
      "outputs": [
        {
          "output_type": "execute_result",
          "data": {
            "text/plain": [
              "True"
            ]
          },
          "metadata": {},
          "execution_count": 13
        }
      ]
    },
    {
      "cell_type": "code",
      "source": [
        "nlp.vocab['no'].is_stop = False"
      ],
      "metadata": {
        "id": "3YOkCxyF_I1T"
      },
      "execution_count": 14,
      "outputs": []
    },
    {
      "cell_type": "code",
      "source": [
        "nlp.vocab['no'].is_stop"
      ],
      "metadata": {
        "colab": {
          "base_uri": "https://localhost:8080/"
        },
        "id": "CMsUff07_Gu6",
        "outputId": "c8e3d45f-e21b-437a-c93c-cd9c2429317b"
      },
      "execution_count": 15,
      "outputs": [
        {
          "output_type": "execute_result",
          "data": {
            "text/plain": [
              "False"
            ]
          },
          "metadata": {},
          "execution_count": 15
        }
      ]
    },
    {
      "cell_type": "code",
      "source": [
        "len(nlp.Defaults.stop_words)"
      ],
      "metadata": {
        "colab": {
          "base_uri": "https://localhost:8080/"
        },
        "id": "AOPoghfB_SMx",
        "outputId": "420f1ccf-1a4f-4157-aae7-21bd2fcc65d5"
      },
      "execution_count": 16,
      "outputs": [
        {
          "output_type": "execute_result",
          "data": {
            "text/plain": [
              "327"
            ]
          },
          "metadata": {},
          "execution_count": 16
        }
      ]
    }
  ]
}